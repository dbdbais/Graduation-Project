{
 "cells": [
  {
   "cell_type": "markdown",
   "metadata": {},
   "source": [
    "# Deep Learning based Email Spam Filter\n"
   ]
  },
  {
   "cell_type": "code",
   "execution_count": 1,
   "metadata": {},
   "outputs": [
    {
     "data": {
      "image/png": "[encoded data removed]",
      "text/plain": [
       "<Figure size 640x480 with 2 Axes>"
      ]
     },
     "metadata": {},
     "output_type": "display_data"
    }
   ],
   "source": [
    "import numpy as np\n",
    "import matplotlib.pyplot as plt\n",
    "\n",
    "# Confusion Matrix 값을 설정합니다.\n",
    "confusion_matrix = np.array([[380, 23], [39, 616]])\n",
    "\n",
    "# Confusion Matrix를 그립니다.\n",
    "plt.imshow(confusion_matrix, interpolation='nearest', cmap=plt.cm.Blues)\n",
    "plt.title(\"Confusion Matrix\")\n",
    "plt.colorbar()\n",
    "\n",
    "classes = ['Positive', 'Negative']\n",
    "tick_marks = np.arange(len(classes))\n",
    "plt.xticks(tick_marks, classes)\n",
    "plt.yticks(tick_marks, classes)\n",
    "\n",
    "# 행렬 내의 값들을 표시합니다.\n",
    "thresh = confusion_matrix.max() / 2.\n",
    "for i in range(confusion_matrix.shape[0]):\n",
    "    for j in range(confusion_matrix.shape[1]):\n",
    "        plt.text(j, i, format(confusion_matrix[i, j], 'd'),\n",
    "                 horizontalalignment=\"center\",\n",
    "                 color=\"white\" if confusion_matrix[i, j] > thresh else \"black\")\n",
    "\n",
    "plt.ylabel('True Label')\n",
    "plt.xlabel('Predicted Label')\n",
    "plt.tight_layout()\n",
    "\n",
    "# 그래프를 표시합니다.\n",
    "plt.show()"
   ]
  },
  {
   "cell_type": "code",
   "execution_count": 2,
   "metadata": {},
   "outputs": [
    {
     "name": "stdout",
     "output_type": "stream",
     "text": [
      "Recall (재현율): 0.9069\n",
      "Precision (정밀도): 0.9429\n",
      "Accuracy (정확도): 0.9414\n",
      "Specificity (특이도): 0.9640\n",
      "F1 Score: 0.9246\n"
     ]
    }
   ],
   "source": [
    "TP = 380\n",
    "FP = 23\n",
    "FN = 39\n",
    "TN = 616\n",
    "\n",
    "# 재현율 (Recall) 계산\n",
    "recall = TP / (TP + FN)\n",
    "\n",
    "# 정밀도 (Precision) 계산\n",
    "precision = TP / (TP + FP)\n",
    "\n",
    "# 정확도 (Accuracy) 계산\n",
    "accuracy = (TP + TN) / (TP + FP + FN + TN)\n",
    "\n",
    "# 특이도 (Specificity) 계산\n",
    "specificity = TN / (TN + FP)\n",
    "\n",
    "# F1 Score 계산\n",
    "f1_score = 2 * (precision * recall) / (precision + recall)\n",
    "\n",
    "# 결과 출력\n",
    "print(f\"Recall (재현율): {recall:.4f}\")\n",
    "print(f\"Precision (정밀도): {precision:.4f}\")\n",
    "print(f\"Accuracy (정확도): {accuracy:.4f}\")\n",
    "print(f\"Specificity (특이도): {specificity:.4f}\")\n",
    "print(f\"F1 Score: {f1_score:.4f}\")"
   ]
  },
  {
   "cell_type": "markdown",
   "metadata": {},
   "source": [
    "# 1. Preprocessing "
   ]
  },
  {
   "cell_type": "code",
   "execution_count": 1,
   "metadata": {},
   "outputs": [],
   "source": [
    "# Load required libraries\n",
    "import matplotlib.pyplot as plt\n",
    "import numpy as np\n",
    "import pandas as pd\n",
    "import time\n",
    "import seaborn as sns\n",
    "import sys\n",
    "sys.setrecursionlimit(1500)\n",
    "%matplotlib inline"
   ]
  },
  {
   "cell_type": "markdown",
   "metadata": {
    "collapsed": true,
    "jupyter": {
     "outputs_hidden": true
    }
   },
   "source": [
    "# Preparing Enron Data "
   ]
  },
  {
   "cell_type": "code",
   "execution_count": 2,
   "metadata": {},
   "outputs": [
    {
     "data": {
      "text/html": [
       "<div>\n",
       "<style scoped>\n",
       "    .dataframe tbody tr th:only-of-type {\n",
       "        vertical-align: middle;\n",
       "    }\n",
       "\n",
       "    .dataframe tbody tr th {\n",
       "        vertical-align: top;\n",
       "    }\n",
       "\n",
       "    .dataframe thead th {\n",
       "        text-align: right;\n",
       "    }\n",
       "</style>\n",
       "<table border=\"1\" class=\"dataframe\">\n",
       "  <thead>\n",
       "    <tr style=\"text-align: right;\">\n",
       "      <th></th>\n",
       "      <th>text</th>\n",
       "      <th>special_ratio</th>\n",
       "      <th>number_ratio</th>\n",
       "      <th>url_count</th>\n",
       "      <th>upper_ratio</th>\n",
       "      <th>blank_ratio</th>\n",
       "      <th>crlf_ratio</th>\n",
       "      <th>Noun</th>\n",
       "      <th>Pronoun</th>\n",
       "      <th>Verb</th>\n",
       "      <th>Adjective</th>\n",
       "      <th>Adverb</th>\n",
       "      <th>avg_word_sentences</th>\n",
       "      <th>avg_char_sentences</th>\n",
       "      <th>avg_word_paragraphs</th>\n",
       "      <th>avg_char_paragraphs</th>\n",
       "      <th>label</th>\n",
       "    </tr>\n",
       "  </thead>\n",
       "  <tbody>\n",
       "    <tr>\n",
       "      <th>0</th>\n",
       "      <td>\\nDiscount Pharmacy Online\\nDo not click, type...</td>\n",
       "      <td>0.048061</td>\n",
       "      <td>0.032426</td>\n",
       "      <td>2</td>\n",
       "      <td>0.006472</td>\n",
       "      <td>0.348252</td>\n",
       "      <td>0.166091</td>\n",
       "      <td>0.324668</td>\n",
       "      <td>0.018486</td>\n",
       "      <td>0.121317</td>\n",
       "      <td>0.080300</td>\n",
       "      <td>0.034084</td>\n",
       "      <td>0.072745</td>\n",
       "      <td>0.008739</td>\n",
       "      <td>0.275551</td>\n",
       "      <td>0.311725</td>\n",
       "      <td>spam</td>\n",
       "    </tr>\n",
       "    <tr>\n",
       "      <th>1</th>\n",
       "      <td>\\nAlmost 1000 low priced drugs from Canada ava...</td>\n",
       "      <td>0.241653</td>\n",
       "      <td>0.015791</td>\n",
       "      <td>1</td>\n",
       "      <td>0.186571</td>\n",
       "      <td>0.297876</td>\n",
       "      <td>0.206880</td>\n",
       "      <td>0.266667</td>\n",
       "      <td>0.022222</td>\n",
       "      <td>0.074074</td>\n",
       "      <td>0.066667</td>\n",
       "      <td>0.014815</td>\n",
       "      <td>0.104785</td>\n",
       "      <td>0.008501</td>\n",
       "      <td>0.013198</td>\n",
       "      <td>0.016585</td>\n",
       "      <td>spam</td>\n",
       "    </tr>\n",
       "    <tr>\n",
       "      <th>2</th>\n",
       "      <td>\\nWOMEN WHO STEPPED UP WERE MEASURED AS CITIZE...</td>\n",
       "      <td>0.072774</td>\n",
       "      <td>0.069296</td>\n",
       "      <td>0</td>\n",
       "      <td>0.069563</td>\n",
       "      <td>0.409651</td>\n",
       "      <td>0.137319</td>\n",
       "      <td>0.339024</td>\n",
       "      <td>0.031707</td>\n",
       "      <td>0.139024</td>\n",
       "      <td>0.090244</td>\n",
       "      <td>0.019512</td>\n",
       "      <td>0.045443</td>\n",
       "      <td>0.004834</td>\n",
       "      <td>0.064864</td>\n",
       "      <td>0.062911</td>\n",
       "      <td>ham</td>\n",
       "    </tr>\n",
       "    <tr>\n",
       "      <th>3</th>\n",
       "      <td>\\nFEURING\\nMIUM\\nFFEES!\\nTA\\nWelcome!\\nleed YO...</td>\n",
       "      <td>0.118520</td>\n",
       "      <td>0.129737</td>\n",
       "      <td>2</td>\n",
       "      <td>0.120512</td>\n",
       "      <td>0.275123</td>\n",
       "      <td>0.108624</td>\n",
       "      <td>0.534170</td>\n",
       "      <td>0.022315</td>\n",
       "      <td>0.048815</td>\n",
       "      <td>0.062762</td>\n",
       "      <td>0.020921</td>\n",
       "      <td>0.062997</td>\n",
       "      <td>0.006822</td>\n",
       "      <td>0.081442</td>\n",
       "      <td>0.121237</td>\n",
       "      <td>spam</td>\n",
       "    </tr>\n",
       "    <tr>\n",
       "      <th>4</th>\n",
       "      <td>\\n#NIGGA YOU CORNY!\\nBEWARE\\nGAP WHEN BOARDING...</td>\n",
       "      <td>0.149297</td>\n",
       "      <td>0.070245</td>\n",
       "      <td>0</td>\n",
       "      <td>0.348361</td>\n",
       "      <td>0.362141</td>\n",
       "      <td>0.262931</td>\n",
       "      <td>0.640000</td>\n",
       "      <td>0.000000</td>\n",
       "      <td>0.000000</td>\n",
       "      <td>0.040000</td>\n",
       "      <td>0.000000</td>\n",
       "      <td>0.009901</td>\n",
       "      <td>0.001082</td>\n",
       "      <td>0.003380</td>\n",
       "      <td>0.003070</td>\n",
       "      <td>spam</td>\n",
       "    </tr>\n",
       "    <tr>\n",
       "      <th>...</th>\n",
       "      <td>...</td>\n",
       "      <td>...</td>\n",
       "      <td>...</td>\n",
       "      <td>...</td>\n",
       "      <td>...</td>\n",
       "      <td>...</td>\n",
       "      <td>...</td>\n",
       "      <td>...</td>\n",
       "      <td>...</td>\n",
       "      <td>...</td>\n",
       "      <td>...</td>\n",
       "      <td>...</td>\n",
       "      <td>...</td>\n",
       "      <td>...</td>\n",
       "      <td>...</td>\n",
       "      <td>...</td>\n",
       "      <td>...</td>\n",
       "    </tr>\n",
       "    <tr>\n",
       "      <th>5783</th>\n",
       "      <td>\\n- CLICK TO THE PICTURE -\\nOnly Best quality ...</td>\n",
       "      <td>0.207269</td>\n",
       "      <td>0.433426</td>\n",
       "      <td>2</td>\n",
       "      <td>0.233912</td>\n",
       "      <td>0.297829</td>\n",
       "      <td>0.243351</td>\n",
       "      <td>0.471910</td>\n",
       "      <td>0.000000</td>\n",
       "      <td>0.056180</td>\n",
       "      <td>0.011236</td>\n",
       "      <td>0.022472</td>\n",
       "      <td>0.091309</td>\n",
       "      <td>0.008250</td>\n",
       "      <td>0.009818</td>\n",
       "      <td>0.011841</td>\n",
       "      <td>spam</td>\n",
       "    </tr>\n",
       "    <tr>\n",
       "      <th>5784</th>\n",
       "      <td>\\nGDKI.PK IS POISED TO EXPLODE!\\nTHIS ONE COUL...</td>\n",
       "      <td>0.148846</td>\n",
       "      <td>0.099371</td>\n",
       "      <td>2</td>\n",
       "      <td>0.309210</td>\n",
       "      <td>0.279829</td>\n",
       "      <td>0.150552</td>\n",
       "      <td>0.469388</td>\n",
       "      <td>0.017493</td>\n",
       "      <td>0.058309</td>\n",
       "      <td>0.040816</td>\n",
       "      <td>0.017493</td>\n",
       "      <td>0.080477</td>\n",
       "      <td>0.008726</td>\n",
       "      <td>0.040399</td>\n",
       "      <td>0.057848</td>\n",
       "      <td>spam</td>\n",
       "    </tr>\n",
       "    <tr>\n",
       "      <th>5785</th>\n",
       "      <td>\\nOddel\\n4\\nPATRIO\\n12\\n65\\nTROILI\\nPATROTES\\n...</td>\n",
       "      <td>0.069234</td>\n",
       "      <td>0.030466</td>\n",
       "      <td>4</td>\n",
       "      <td>0.025295</td>\n",
       "      <td>0.960949</td>\n",
       "      <td>0.114035</td>\n",
       "      <td>0.318807</td>\n",
       "      <td>0.022936</td>\n",
       "      <td>0.146789</td>\n",
       "      <td>0.087156</td>\n",
       "      <td>0.055046</td>\n",
       "      <td>0.113311</td>\n",
       "      <td>0.019651</td>\n",
       "      <td>0.055690</td>\n",
       "      <td>0.076865</td>\n",
       "      <td>ham</td>\n",
       "    </tr>\n",
       "    <tr>\n",
       "      <th>5786</th>\n",
       "      <td>\\nBest stock Pick for this Year!\\nGet ARSS Fir...</td>\n",
       "      <td>0.067179</td>\n",
       "      <td>0.042858</td>\n",
       "      <td>0</td>\n",
       "      <td>0.084392</td>\n",
       "      <td>0.343925</td>\n",
       "      <td>0.170447</td>\n",
       "      <td>0.336634</td>\n",
       "      <td>0.069307</td>\n",
       "      <td>0.135314</td>\n",
       "      <td>0.082508</td>\n",
       "      <td>0.036304</td>\n",
       "      <td>0.048955</td>\n",
       "      <td>0.005369</td>\n",
       "      <td>0.043296</td>\n",
       "      <td>0.049197</td>\n",
       "      <td>spam</td>\n",
       "    </tr>\n",
       "    <tr>\n",
       "      <th>5787</th>\n",
       "      <td>\\nBROADSIDE\\nForce Behind Darts re : risk book...</td>\n",
       "      <td>0.029604</td>\n",
       "      <td>0.000000</td>\n",
       "      <td>0</td>\n",
       "      <td>0.060950</td>\n",
       "      <td>0.310135</td>\n",
       "      <td>0.228098</td>\n",
       "      <td>0.525000</td>\n",
       "      <td>0.050000</td>\n",
       "      <td>0.100000</td>\n",
       "      <td>0.025000</td>\n",
       "      <td>0.075000</td>\n",
       "      <td>0.037404</td>\n",
       "      <td>0.004932</td>\n",
       "      <td>0.006116</td>\n",
       "      <td>0.007096</td>\n",
       "      <td>ham</td>\n",
       "    </tr>\n",
       "  </tbody>\n",
       "</table>\n",
       "<p>5788 rows × 17 columns</p>\n",
       "</div>"
      ],
      "text/plain": [
       "                                                   text  special_ratio  \\\n",
       "0     \\nDiscount Pharmacy Online\\nDo not click, type...       0.048061   \n",
       "1     \\nAlmost 1000 low priced drugs from Canada ava...       0.241653   \n",
       "2     \\nWOMEN WHO STEPPED UP WERE MEASURED AS CITIZE...       0.072774   \n",
       "3     \\nFEURING\\nMIUM\\nFFEES!\\nTA\\nWelcome!\\nleed YO...       0.118520   \n",
       "4     \\n#NIGGA YOU CORNY!\\nBEWARE\\nGAP WHEN BOARDING...       0.149297   \n",
       "...                                                 ...            ...   \n",
       "5783  \\n- CLICK TO THE PICTURE -\\nOnly Best quality ...       0.207269   \n",
       "5784  \\nGDKI.PK IS POISED TO EXPLODE!\\nTHIS ONE COUL...       0.148846   \n",
       "5785  \\nOddel\\n4\\nPATRIO\\n12\\n65\\nTROILI\\nPATROTES\\n...       0.069234   \n",
       "5786  \\nBest stock Pick for this Year!\\nGet ARSS Fir...       0.067179   \n",
       "5787  \\nBROADSIDE\\nForce Behind Darts re : risk book...       0.029604   \n",
       "\n",
       "      number_ratio  url_count  upper_ratio  blank_ratio  crlf_ratio      Noun  \\\n",
       "0         0.032426          2     0.006472     0.348252    0.166091  0.324668   \n",
       "1         0.015791          1     0.186571     0.297876    0.206880  0.266667   \n",
       "2         0.069296          0     0.069563     0.409651    0.137319  0.339024   \n",
       "3         0.129737          2     0.120512     0.275123    0.108624  0.534170   \n",
       "4         0.070245          0     0.348361     0.362141    0.262931  0.640000   \n",
       "...            ...        ...          ...          ...         ...       ...   \n",
       "5783      0.433426          2     0.233912     0.297829    0.243351  0.471910   \n",
       "5784      0.099371          2     0.309210     0.279829    0.150552  0.469388   \n",
       "5785      0.030466          4     0.025295     0.960949    0.114035  0.318807   \n",
       "5786      0.042858          0     0.084392     0.343925    0.170447  0.336634   \n",
       "5787      0.000000          0     0.060950     0.310135    0.228098  0.525000   \n",
       "\n",
       "       Pronoun      Verb  Adjective    Adverb  avg_word_sentences  \\\n",
       "0     0.018486  0.121317   0.080300  0.034084            0.072745   \n",
       "1     0.022222  0.074074   0.066667  0.014815            0.104785   \n",
       "2     0.031707  0.139024   0.090244  0.019512            0.045443   \n",
       "3     0.022315  0.048815   0.062762  0.020921            0.062997   \n",
       "4     0.000000  0.000000   0.040000  0.000000            0.009901   \n",
       "...        ...       ...        ...       ...                 ...   \n",
       "5783  0.000000  0.056180   0.011236  0.022472            0.091309   \n",
       "5784  0.017493  0.058309   0.040816  0.017493            0.080477   \n",
       "5785  0.022936  0.146789   0.087156  0.055046            0.113311   \n",
       "5786  0.069307  0.135314   0.082508  0.036304            0.048955   \n",
       "5787  0.050000  0.100000   0.025000  0.075000            0.037404   \n",
       "\n",
       "      avg_char_sentences  avg_word_paragraphs  avg_char_paragraphs label  \n",
       "0               0.008739             0.275551             0.311725  spam  \n",
       "1               0.008501             0.013198             0.016585  spam  \n",
       "2               0.004834             0.064864             0.062911   ham  \n",
       "3               0.006822             0.081442             0.121237  spam  \n",
       "4               0.001082             0.003380             0.003070  spam  \n",
       "...                  ...                  ...                  ...   ...  \n",
       "5783            0.008250             0.009818             0.011841  spam  \n",
       "5784            0.008726             0.040399             0.057848  spam  \n",
       "5785            0.019651             0.055690             0.076865   ham  \n",
       "5786            0.005369             0.043296             0.049197  spam  \n",
       "5787            0.004932             0.006116             0.007096   ham  \n",
       "\n",
       "[5788 rows x 17 columns]"
      ]
     },
     "execution_count": 2,
     "metadata": {},
     "output_type": "execute_result"
    }
   ],
   "source": [
    "data = pd.read_csv('최종데이터/collectimage_train_16features.csv')\n",
    "data"
   ]
  },
  {
   "cell_type": "markdown",
   "metadata": {},
   "source": [
    "We will add two more columns to our dataframe for tokenized text and token count. "
   ]
  },
  {
   "cell_type": "code",
   "execution_count": 3,
   "metadata": {},
   "outputs": [],
   "source": [
    "NEWLINE = '\\n'\n",
    "\n",
    "def token_count(row):\n",
    "    'returns token count'\n",
    "    text=row['tokenized_text']\n",
    "    length=len(text.split())\n",
    "    return length\n",
    "\n",
    "def tokenize(row):\n",
    "    \"tokenize the text using default space tokenizer\"\n",
    "    text=row['text']\n",
    "    lines=(line for line in text.split(NEWLINE) )\n",
    "    tokenized=\"\"\n",
    "    for sentence in lines:\n",
    "        tokenized+= \" \".join(tok for tok in sentence.split())\n",
    "    return tokenized"
   ]
  },
  {
   "cell_type": "markdown",
   "metadata": {},
   "source": [
    "We will use apply functions on dataframe to add the columns for : \n",
    "    * Tokenized text\n",
    "    * Token Count\n",
    "    * Language\n",
    "Language column in this case is not necessary as we only have english text. However this approach is good for properly dealing with multi lingual data.     "
   ]
  },
  {
   "cell_type": "code",
   "execution_count": 4,
   "metadata": {},
   "outputs": [],
   "source": [
    "data['tokenized_text']=data.apply(tokenize, axis=1)\n",
    "data['token_count']=data.apply(token_count, axis=1)\n",
    "data['lang']='en'"
   ]
  },
  {
   "cell_type": "markdown",
   "metadata": {
    "collapsed": true,
    "jupyter": {
     "outputs_hidden": true
    }
   },
   "source": [
    "Let's look at how our dataframe looks like"
   ]
  },
  {
   "cell_type": "code",
   "execution_count": 5,
   "metadata": {},
   "outputs": [
    {
     "data": {
      "text/html": [
       "<div>\n",
       "<style scoped>\n",
       "    .dataframe tbody tr th:only-of-type {\n",
       "        vertical-align: middle;\n",
       "    }\n",
       "\n",
       "    .dataframe tbody tr th {\n",
       "        vertical-align: top;\n",
       "    }\n",
       "\n",
       "    .dataframe thead th {\n",
       "        text-align: right;\n",
       "    }\n",
       "</style>\n",
       "<table border=\"1\" class=\"dataframe\">\n",
       "  <thead>\n",
       "    <tr style=\"text-align: right;\">\n",
       "      <th></th>\n",
       "      <th>text</th>\n",
       "      <th>special_ratio</th>\n",
       "      <th>number_ratio</th>\n",
       "      <th>url_count</th>\n",
       "      <th>upper_ratio</th>\n",
       "      <th>blank_ratio</th>\n",
       "      <th>crlf_ratio</th>\n",
       "      <th>Noun</th>\n",
       "      <th>Pronoun</th>\n",
       "      <th>Verb</th>\n",
       "      <th>Adjective</th>\n",
       "      <th>Adverb</th>\n",
       "      <th>avg_word_sentences</th>\n",
       "      <th>avg_char_sentences</th>\n",
       "      <th>avg_word_paragraphs</th>\n",
       "      <th>avg_char_paragraphs</th>\n",
       "      <th>label</th>\n",
       "      <th>tokenized_text</th>\n",
       "      <th>token_count</th>\n",
       "      <th>lang</th>\n",
       "    </tr>\n",
       "  </thead>\n",
       "  <tbody>\n",
       "    <tr>\n",
       "      <th>0</th>\n",
       "      <td>\\nDiscount Pharmacy Online\\nDo not click, type...</td>\n",
       "      <td>0.048061</td>\n",
       "      <td>0.032426</td>\n",
       "      <td>2</td>\n",
       "      <td>0.006472</td>\n",
       "      <td>0.348252</td>\n",
       "      <td>0.166091</td>\n",
       "      <td>0.324668</td>\n",
       "      <td>0.018486</td>\n",
       "      <td>0.121317</td>\n",
       "      <td>0.080300</td>\n",
       "      <td>0.034084</td>\n",
       "      <td>0.072745</td>\n",
       "      <td>0.008739</td>\n",
       "      <td>0.275551</td>\n",
       "      <td>0.311725</td>\n",
       "      <td>spam</td>\n",
       "      <td>Discount Pharmacy OnlineDo not click, type in ...</td>\n",
       "      <td>1507</td>\n",
       "      <td>en</td>\n",
       "    </tr>\n",
       "    <tr>\n",
       "      <th>1</th>\n",
       "      <td>\\nAlmost 1000 low priced drugs from Canada ava...</td>\n",
       "      <td>0.241653</td>\n",
       "      <td>0.015791</td>\n",
       "      <td>1</td>\n",
       "      <td>0.186571</td>\n",
       "      <td>0.297876</td>\n",
       "      <td>0.206880</td>\n",
       "      <td>0.266667</td>\n",
       "      <td>0.022222</td>\n",
       "      <td>0.074074</td>\n",
       "      <td>0.066667</td>\n",
       "      <td>0.014815</td>\n",
       "      <td>0.104785</td>\n",
       "      <td>0.008501</td>\n",
       "      <td>0.013198</td>\n",
       "      <td>0.016585</td>\n",
       "      <td>spam</td>\n",
       "      <td>Almost 1000 low priced drugs from Canada avail...</td>\n",
       "      <td>71</td>\n",
       "      <td>en</td>\n",
       "    </tr>\n",
       "    <tr>\n",
       "      <th>2</th>\n",
       "      <td>\\nWOMEN WHO STEPPED UP WERE MEASURED AS CITIZE...</td>\n",
       "      <td>0.072774</td>\n",
       "      <td>0.069296</td>\n",
       "      <td>0</td>\n",
       "      <td>0.069563</td>\n",
       "      <td>0.409651</td>\n",
       "      <td>0.137319</td>\n",
       "      <td>0.339024</td>\n",
       "      <td>0.031707</td>\n",
       "      <td>0.139024</td>\n",
       "      <td>0.090244</td>\n",
       "      <td>0.019512</td>\n",
       "      <td>0.045443</td>\n",
       "      <td>0.004834</td>\n",
       "      <td>0.064864</td>\n",
       "      <td>0.062911</td>\n",
       "      <td>ham</td>\n",
       "      <td>WOMEN WHO STEPPED UP WERE MEASURED AS CITIZENS...</td>\n",
       "      <td>370</td>\n",
       "      <td>en</td>\n",
       "    </tr>\n",
       "    <tr>\n",
       "      <th>3</th>\n",
       "      <td>\\nFEURING\\nMIUM\\nFFEES!\\nTA\\nWelcome!\\nleed YO...</td>\n",
       "      <td>0.118520</td>\n",
       "      <td>0.129737</td>\n",
       "      <td>2</td>\n",
       "      <td>0.120512</td>\n",
       "      <td>0.275123</td>\n",
       "      <td>0.108624</td>\n",
       "      <td>0.534170</td>\n",
       "      <td>0.022315</td>\n",
       "      <td>0.048815</td>\n",
       "      <td>0.062762</td>\n",
       "      <td>0.020921</td>\n",
       "      <td>0.062997</td>\n",
       "      <td>0.006822</td>\n",
       "      <td>0.081442</td>\n",
       "      <td>0.121237</td>\n",
       "      <td>spam</td>\n",
       "      <td>FEURINGMIUMFFEES!TAWelcome!leed YOUNGSTOWN TRA...</td>\n",
       "      <td>458</td>\n",
       "      <td>en</td>\n",
       "    </tr>\n",
       "    <tr>\n",
       "      <th>4</th>\n",
       "      <td>\\n#NIGGA YOU CORNY!\\nBEWARE\\nGAP WHEN BOARDING...</td>\n",
       "      <td>0.149297</td>\n",
       "      <td>0.070245</td>\n",
       "      <td>0</td>\n",
       "      <td>0.348361</td>\n",
       "      <td>0.362141</td>\n",
       "      <td>0.262931</td>\n",
       "      <td>0.640000</td>\n",
       "      <td>0.000000</td>\n",
       "      <td>0.000000</td>\n",
       "      <td>0.040000</td>\n",
       "      <td>0.000000</td>\n",
       "      <td>0.009901</td>\n",
       "      <td>0.001082</td>\n",
       "      <td>0.003380</td>\n",
       "      <td>0.003070</td>\n",
       "      <td>spam</td>\n",
       "      <td>#NIGGA YOU CORNY!BEWAREGAP WHEN BOARDING softw...</td>\n",
       "      <td>20</td>\n",
       "      <td>en</td>\n",
       "    </tr>\n",
       "  </tbody>\n",
       "</table>\n",
       "</div>"
      ],
      "text/plain": [
       "                                                text  special_ratio  \\\n",
       "0  \\nDiscount Pharmacy Online\\nDo not click, type...       0.048061   \n",
       "1  \\nAlmost 1000 low priced drugs from Canada ava...       0.241653   \n",
       "2  \\nWOMEN WHO STEPPED UP WERE MEASURED AS CITIZE...       0.072774   \n",
       "3  \\nFEURING\\nMIUM\\nFFEES!\\nTA\\nWelcome!\\nleed YO...       0.118520   \n",
       "4  \\n#NIGGA YOU CORNY!\\nBEWARE\\nGAP WHEN BOARDING...       0.149297   \n",
       "\n",
       "   number_ratio  url_count  upper_ratio  blank_ratio  crlf_ratio      Noun  \\\n",
       "0      0.032426          2     0.006472     0.348252    0.166091  0.324668   \n",
       "1      0.015791          1     0.186571     0.297876    0.206880  0.266667   \n",
       "2      0.069296          0     0.069563     0.409651    0.137319  0.339024   \n",
       "3      0.129737          2     0.120512     0.275123    0.108624  0.534170   \n",
       "4      0.070245          0     0.348361     0.362141    0.262931  0.640000   \n",
       "\n",
       "    Pronoun      Verb  Adjective    Adverb  avg_word_sentences  \\\n",
       "0  0.018486  0.121317   0.080300  0.034084            0.072745   \n",
       "1  0.022222  0.074074   0.066667  0.014815            0.104785   \n",
       "2  0.031707  0.139024   0.090244  0.019512            0.045443   \n",
       "3  0.022315  0.048815   0.062762  0.020921            0.062997   \n",
       "4  0.000000  0.000000   0.040000  0.000000            0.009901   \n",
       "\n",
       "   avg_char_sentences  avg_word_paragraphs  avg_char_paragraphs label  \\\n",
       "0            0.008739             0.275551             0.311725  spam   \n",
       "1            0.008501             0.013198             0.016585  spam   \n",
       "2            0.004834             0.064864             0.062911   ham   \n",
       "3            0.006822             0.081442             0.121237  spam   \n",
       "4            0.001082             0.003380             0.003070  spam   \n",
       "\n",
       "                                      tokenized_text  token_count lang  \n",
       "0  Discount Pharmacy OnlineDo not click, type in ...         1507   en  \n",
       "1  Almost 1000 low priced drugs from Canada avail...           71   en  \n",
       "2  WOMEN WHO STEPPED UP WERE MEASURED AS CITIZENS...          370   en  \n",
       "3  FEURINGMIUMFFEES!TAWelcome!leed YOUNGSTOWN TRA...          458   en  \n",
       "4  #NIGGA YOU CORNY!BEWAREGAP WHEN BOARDING softw...           20   en  "
      ]
     },
     "execution_count": 5,
     "metadata": {},
     "output_type": "execute_result"
    }
   ],
   "source": [
    "data.head()"
   ]
  },
  {
   "cell_type": "code",
   "execution_count": 6,
   "metadata": {},
   "outputs": [
    {
     "name": "stdout",
     "output_type": "stream",
     "text": [
      "total emails :  5788\n",
      "total spam emails :  4404\n",
      "total normal emails :  1384\n"
     ]
    }
   ],
   "source": [
    "# Lets look at some information related to the data\n",
    "df=data\n",
    "print(\"total emails : \", len(df))\n",
    "print  (\"total spam emails : \", len(df[df['label']=='spam']) )\n",
    "print  (\"total normal emails : \", len(df[df['label']=='ham']) )"
   ]
  },
  {
   "cell_type": "markdown",
   "metadata": {
    "collapsed": true,
    "jupyter": {
     "outputs_hidden": true
    }
   },
   "source": [
    "### Plot of Emails with Langage and Email type"
   ]
  },
  {
   "cell_type": "code",
   "execution_count": 7,
   "metadata": {},
   "outputs": [
    {
     "name": "stderr",
     "output_type": "stream",
     "text": [
      "C:\\Users\\JAE\\AppData\\Local\\Temp\\ipykernel_10000\\771743291.py:1: FutureWarning: Indexing with multiple keys (implicitly converted to a tuple of keys) will be deprecated, use a list instead.\n",
      "  df1 = df.groupby(['lang','label'])['label','lang'].size().unstack()\n"
     ]
    },
    {
     "data": {
      "text/plain": [
       "Text(0.5, 1.0, 'Plot of Emails count with languages and email type')"
      ]
     },
     "execution_count": 7,
     "metadata": {},
     "output_type": "execute_result"
    },
    {
     "data": {
      "image/png": "[encoded data removed]",
      "text/plain": [
       "<Figure size 640x480 with 1 Axes>"
      ]
     },
     "metadata": {},
     "output_type": "display_data"
    }
   ],
   "source": [
    "df1 = df.groupby(['lang','label'])['label','lang'].size().unstack()\n",
    "\n",
    "ax=df1.plot(kind='bar')\n",
    "ax.set_ylabel(\"Total Emails\")\n",
    "ax.set_xlabel(\"Language\")\n",
    "ax.set_title(\"Plot of Emails count with languages and email type\")"
   ]
  },
  {
   "cell_type": "code",
   "execution_count": 8,
   "metadata": {},
   "outputs": [
    {
     "data": {
      "text/plain": [
       "Text(0.5, 1.0, 'Token length Vs Frequency for Enron Spam Emails')"
      ]
     },
     "execution_count": 8,
     "metadata": {},
     "output_type": "execute_result"
    },
    {
     "data": {
      "image/png": "[encoded data removed]",
      "text/plain": [
       "<Figure size 1200x600 with 2 Axes>"
      ]
     },
     "metadata": {},
     "output_type": "display_data"
    }
   ],
   "source": [
    "bins = [0,100,200,300,350,400,500,600,800,1000,1500,2000,3000,4000,5000,6000,10000,20000]\n",
    "\n",
    "\n",
    "fig, axes = plt.subplots(nrows=1, ncols=2,figsize=(12, 6))\n",
    "fig.subplots_adjust(hspace=.5)\n",
    "\n",
    "df_sub=df[ (df['lang']=='en') & (df['label']=='ham')]\n",
    "df1 = df_sub.groupby(pd.cut(df_sub['token_count'], bins=bins)).token_count.count()\n",
    "df1.index=[a.right for a in df1.index]\n",
    "res1=df1.plot(kind='bar',ax=axes[0])\n",
    "res1.set_xlabel('Email tokens length')\n",
    "res1.set_ylabel('Frequency')\n",
    "res1.set_title('Token length Vs Frequency for Enron Normal Emails')\n",
    "\n",
    "\n",
    "df_sub=df[ (df['lang']=='en') & (df['label']=='spam')]\n",
    "df1 = df_sub.groupby(pd.cut(df_sub['token_count'], bins=bins)).token_count.count()\n",
    "df1.index=[a.right for a in df1.index]\n",
    "res2=df1.plot(kind='bar',ax=axes[1])\n",
    "res2.set_xlabel('Email tokens length')\n",
    "res2.set_ylabel('Frequency')\n",
    "res2.set_title('Token length Vs Frequency for Enron Spam Emails')"
   ]
  },
  {
   "cell_type": "markdown",
   "metadata": {
    "collapsed": true,
    "jupyter": {
     "outputs_hidden": true
    }
   },
   "source": [
    "# Prepare training and test data "
   ]
  },
  {
   "cell_type": "markdown",
   "metadata": {},
   "source": [
    "We will split data into test data  and data for model training and validation. We do this step to keep test data out of both tf-idf and classifier models. \n",
    "\n",
    "We will keep 1000 emails for testing and rest for the model building process. "
   ]
  },
  {
   "cell_type": "markdown",
   "metadata": {
    "collapsed": true,
    "jupyter": {
     "outputs_hidden": true
    }
   },
   "source": [
    "# Train Machine Learning Models"
   ]
  },
  {
   "cell_type": "markdown",
   "metadata": {
    "collapsed": true,
    "jupyter": {
     "outputs_hidden": true
    }
   },
   "source": [
    "## Deep Learning Model "
   ]
  },
  {
   "cell_type": "markdown",
   "metadata": {
    "collapsed": true,
    "jupyter": {
     "outputs_hidden": true
    }
   },
   "source": [
    "We will build our deep learning model using Keras library with tensorflow as backend. "
   ]
  },
  {
   "cell_type": "code",
   "execution_count": 9,
   "metadata": {},
   "outputs": [],
   "source": [
    "from sklearn.preprocessing import LabelEncoder\n",
    "from tensorflow.keras.preprocessing.text import Tokenizer\n",
    "from tensorflow.keras.preprocessing.sequence import pad_sequences\n",
    "from tensorflow.keras.models import Model\n",
    "from tensorflow.keras.layers import Input, Embedding, Dense, concatenate, Flatten\n",
    "from keras.callbacks import ModelCheckpoint, TensorBoard"
   ]
  },
  {
   "cell_type": "markdown",
   "metadata": {},
   "source": [
    "# Create tf-idf model from the data\n",
    "\n",
    "We will create tf-idf model with keras"
   ]
  },
  {
   "cell_type": "code",
   "execution_count": 10,
   "metadata": {},
   "outputs": [],
   "source": [
    "# max number of features\n",
    "num_max = 4000"
   ]
  },
  {
   "cell_type": "code",
   "execution_count": 11,
   "metadata": {},
   "outputs": [],
   "source": [
    "def train_tf_idf_model(texts):\n",
    "    \"train tf idf model \"\n",
    "    tic = time.process_time()\n",
    "    \n",
    "\n",
    "    tok = Tokenizer(num_words=num_max)\n",
    "    tok.fit_on_texts(texts)\n",
    "    toc = time.process_time()\n",
    "\n",
    "    print (\" -----total Computation time = \" + str((toc - tic)) + \" seconds\")\n",
    "    return tok\n",
    "\n",
    "\n",
    "def prepare_model_input(tfidf_model,dataframe,mode='tfidf'):\n",
    "    \n",
    "    \"function to prepare data input features using tfidf model\"\n",
    "    tic = time.process_time()\n",
    "    \n",
    "    le = LabelEncoder()\n",
    "    sample_texts = list(dataframe['tokenized_text'])\n",
    "    sample_texts = [' '.join(x.split()) for x in sample_texts]\n",
    "    \n",
    "    targets=list(dataframe['label'])\n",
    "    targets = [1. if x=='spam' else 0. for x in targets]\n",
    "    sample_target = le.fit_transform(targets)\n",
    "    \n",
    "    if mode=='tfidf':\n",
    "        sample_texts=tfidf_model.texts_to_matrix(sample_texts,mode='tfidf')\n",
    "    else:\n",
    "        sample_texts=tfidf_model.texts_to_matrix(sample_texts)\n",
    "    \n",
    "    toc = time.process_time()\n",
    "    \n",
    "    print('shape of labels: ', sample_target.shape)\n",
    "    print('shape of data: ', sample_texts.shape)\n",
    "    \n",
    "    print (\" -----total Computation time for preparing model data = \" + str((toc - tic)) + \" seconds\")\n",
    "    \n",
    "    return sample_texts,sample_target"
   ]
  },
  {
   "cell_type": "code",
   "execution_count": 12,
   "metadata": {},
   "outputs": [
    {
     "name": "stdout",
     "output_type": "stream",
     "text": [
      " -----total Computation time = 2.25 seconds\n"
     ]
    }
   ],
   "source": [
    "texts=list(df['tokenized_text'])\n",
    "tfidf_model=train_tf_idf_model(texts)"
   ]
  },
  {
   "cell_type": "code",
   "execution_count": 13,
   "metadata": {},
   "outputs": [
    {
     "name": "stdout",
     "output_type": "stream",
     "text": [
      "shape of labels:  (5788,)\n",
      "shape of data:  (5788, 4000)\n",
      " -----total Computation time for preparing model data = 7.203125 seconds\n"
     ]
    }
   ],
   "source": [
    "# prepare model input data\n",
    "mat_texts,tags = prepare_model_input(tfidf_model,df,mode='tfidf')"
   ]
  },
  {
   "cell_type": "code",
   "execution_count": 14,
   "metadata": {},
   "outputs": [],
   "source": [
    "df_model = df"
   ]
  },
  {
   "cell_type": "code",
   "execution_count": 15,
   "metadata": {},
   "outputs": [],
   "source": [
    "special_ratio = np.array(df_model['special_ratio'])\n",
    "number_ratio = np.array(df_model['number_ratio'])\n",
    "url_count = np.array(df_model['url_count'])\n",
    "upper_ratio = np.array(df_model['upper_ratio'])\n",
    "blank_ratio = np.array(df_model['blank_ratio'])\n",
    "crlf_ratio = np.array(df_model['crlf_ratio'])\n",
    "Noun = np.array(df_model['Noun'])\n",
    "Pronoun = np.array(df_model['Pronoun'])\n",
    "Verb = np.array(df_model['Verb'])\n",
    "Adjective = np.array(df_model['Adjective'])\n",
    "Adverb = np.array(df_model['Adverb'])\n",
    "avg_word_sentences = np.array(df_model['avg_word_sentences'])\n",
    "avg_char_sentences = np.array(df_model['avg_char_sentences'])\n",
    "avg_word_paragraphs = np.array(df_model['avg_word_paragraphs'])\n",
    "avg_char_paragraphs = np.array(df_model['avg_char_paragraphs'])\n",
    "\n",
    "# 텍스트 입력 레이어\n",
    "text_input = Input(shape=(num_max,), name='text_input')\n",
    "\n",
    "# 특수문자, 숫자 개수, URL 개수 입력 레이어\n",
    "special_ratio_input = Input(shape=(1,), name='special_ratio_input')\n",
    "number_ratio_input = Input(shape=(1,), name='number_ratio_input')\n",
    "url_count_input = Input(shape=(1,), name='url_count_input')\n",
    "upper_ratio_input = Input(shape=(1,), name='upper_ratio_input')\n",
    "blank_ratio_input = Input(shape=(1,), name='blank_ratio_input')\n",
    "crlf_ratio_input = Input(shape=(1,), name='crlf_ratio_input')\n",
    "Noun_input = Input(shape=(1,), name='Noun_input')\n",
    "Pronoun_input = Input(shape=(1,), name='Pronoun_input')\n",
    "Verb_input = Input(shape=(1,), name='Verb_input')\n",
    "Adjective_input = Input(shape=(1,), name='Adjective_input')\n",
    "Adverb_input = Input(shape=(1,), name='Adverb_input')\n",
    "avg_word_sentences_input = Input(shape=(1,), name='avg_word_sentences_input')\n",
    "avg_char_sentences_input = Input(shape=(1,), name='avg_char_sentences_input')\n",
    "avg_word_paragraphs_input = Input(shape=(1,), name='avg_word_paragraphs_input')\n",
    "avg_char_paragraphs_input = Input(shape=(1,), name='avg_char_paragraphs_input')\n",
    "\n",
    "# 텍스트 입력 레이어와 나머지 입력 레이어들을 결합\n",
    "merged_input = concatenate([text_input, upper_ratio_input, blank_ratio_input, Noun_input, Pronoun_input])"
   ]
  },
  {
   "cell_type": "markdown",
   "metadata": {},
   "source": [
    "# Split Train/validation data \n",
    "\n",
    "We will use 85% for training, 15% for validation. "
   ]
  },
  {
   "cell_type": "code",
   "execution_count": 16,
   "metadata": {
    "scrolled": true
   },
   "outputs": [
    {
     "name": "stdout",
     "output_type": "stream",
     "text": [
      "<class 'pandas.core.frame.DataFrame'>\n",
      "RangeIndex: 5788 entries, 0 to 5787\n",
      "Data columns (total 20 columns):\n",
      " #   Column               Non-Null Count  Dtype  \n",
      "---  ------               --------------  -----  \n",
      " 0   text                 5788 non-null   object \n",
      " 1   special_ratio        5788 non-null   float64\n",
      " 2   number_ratio         5788 non-null   float64\n",
      " 3   url_count            5788 non-null   int64  \n",
      " 4   upper_ratio          5788 non-null   float64\n",
      " 5   blank_ratio          5788 non-null   float64\n",
      " 6   crlf_ratio           5788 non-null   float64\n",
      " 7   Noun                 5788 non-null   float64\n",
      " 8   Pronoun              5788 non-null   float64\n",
      " 9   Verb                 5788 non-null   float64\n",
      " 10  Adjective            5788 non-null   float64\n",
      " 11  Adverb               5788 non-null   float64\n",
      " 12  avg_word_sentences   5788 non-null   float64\n",
      " 13  avg_char_sentences   5788 non-null   float64\n",
      " 14  avg_word_paragraphs  5788 non-null   float64\n",
      " 15  avg_char_paragraphs  5788 non-null   float64\n",
      " 16  label                5788 non-null   object \n",
      " 17  tokenized_text       5788 non-null   object \n",
      " 18  token_count          5788 non-null   int64  \n",
      " 19  lang                 5788 non-null   object \n",
      "dtypes: float64(14), int64(2), object(4)\n",
      "memory usage: 904.5+ KB\n"
     ]
    }
   ],
   "source": [
    "df_model.info()"
   ]
  },
  {
   "cell_type": "code",
   "execution_count": 19,
   "metadata": {},
   "outputs": [],
   "source": [
    "# 학습 데이터와 테스트 데이터로 분할\n",
    "from sklearn.model_selection import train_test_split\n",
    "text_train, text_val, special_ratio_train, special_ratio_val, number_ratio_train, number_ratio_val, url_count_train, url_count_val, upper_ratio_train, upper_ratio_val, blank_ratio_train, blank_ratio_val, crlf_ratio_train, crlf_ratio_val, Noun_train, Noun_val, Pronoun_train, Pronoun_val, Verb_train, Verb_val, Adjective_train, Adjective_val, Adverb_train, Adverb_val, avg_word_sentences_train, avg_word_sentences_val, avg_char_sentences_train, avg_char_sentences_val, avg_word_paragraphs_train, avg_word_paragraphs_val,avg_char_paragraphs_train, avg_char_paragraphs_val, tags_train, tags_val = train_test_split(mat_texts, special_ratio , number_ratio , url_count, upper_ratio , blank_ratio , crlf_ratio, Noun, Pronoun, Verb, Adjective, Adverb, avg_word_sentences , avg_char_sentences , avg_word_paragraphs ,avg_char_paragraphs , tags, test_size=0.15, random_state=42)"
   ]
  },
  {
   "cell_type": "code",
   "execution_count": 20,
   "metadata": {},
   "outputs": [
    {
     "data": {
      "text/plain": [
       "array([[0.        , 1.33446397, 0.        , ..., 0.        , 0.        ,\n",
       "        0.        ],\n",
       "       [0.        , 1.33446397, 0.76600423, ..., 0.        , 0.        ,\n",
       "        0.        ],\n",
       "       [0.        , 0.        , 0.76600423, ..., 0.        , 0.        ,\n",
       "        0.        ],\n",
       "       ...,\n",
       "       [0.        , 2.05664393, 2.25657963, ..., 0.        , 0.        ,\n",
       "        0.        ],\n",
       "       [0.        , 1.65403369, 2.13849956, ..., 0.        , 0.        ,\n",
       "        0.        ],\n",
       "       [0.        , 0.        , 0.        , ..., 0.        , 0.        ,\n",
       "        0.        ]])"
      ]
     },
     "execution_count": 20,
     "metadata": {},
     "output_type": "execute_result"
    }
   ],
   "source": [
    "text_train"
   ]
  },
  {
   "cell_type": "markdown",
   "metadata": {},
   "source": [
    "# Build models\n",
    "\n"
   ]
  },
  {
   "cell_type": "code",
   "execution_count": 21,
   "metadata": {},
   "outputs": [],
   "source": [
    "## Define and initialize the network\n",
    "model_save_path=\"checkpoints/spam_detector_enron_model6.h5\""
   ]
  },
  {
   "cell_type": "code",
   "execution_count": 22,
   "metadata": {},
   "outputs": [],
   "source": [
    "def get_simple_model():\n",
    "    # 은닉층과 출력층 설정\n",
    "    hidden_layer = Dense(64, activation='relu')(merged_input)\n",
    "    output_layer = Dense(1, activation='sigmoid', name='output')(hidden_layer)\n",
    "\n",
    "    # 모델 생성\n",
    "    model = Model(inputs=[text_input, upper_ratio_input, blank_ratio_input, Noun_input, Pronoun_input], outputs=output_layer)\n",
    "\n",
    "    # 모델 요약\n",
    "    model.summary()\n",
    "\n",
    "    # 모델 컴파일\n",
    "    model.compile(optimizer='adam', loss='binary_crossentropy', metrics=['accuracy'])\n",
    "    print('compile done')\n",
    "    return model\n",
    "\n",
    "\n",
    "def check_model2(model,x_train,y_train,x_val,y_val,epochs=10):\n",
    "    history=model.fit(x_train, y_train, epochs=epochs, batch_size=64, verbose=1,\n",
    "                      shuffle=True,\n",
    "                      validation_data=(x_val, y_val),\n",
    "                      callbacks=[checkpointer, tensorboard]).history\n",
    "    return history\n",
    "\n",
    "# define checkpointer\n",
    "checkpointer = ModelCheckpoint(filepath=model_save_path,\n",
    "                               verbose=1,\n",
    "                               save_best_only=True)    \n",
    "\n",
    "# define tensorboard\n",
    "tensorboard = TensorBoard(log_dir='./logs',\n",
    "                          histogram_freq=0,\n",
    "                          write_graph=True,\n",
    "                          write_images=True)\n",
    "\n",
    "\n",
    "# define the predict function for the deep learning model for later use\n",
    "def predict(test_text, test_upper_ratio, test_blank_ratio, test_Noun, test_Pronoun):\n",
    "    result=model.predict([test_text, test_upper_ratio, test_blank_ratio, test_Noun, test_Pronoun])\n",
    "    prediction = [round(x[0]) for x in result]\n",
    "    return prediction"
   ]
  },
  {
   "cell_type": "code",
   "execution_count": 23,
   "metadata": {},
   "outputs": [
    {
     "name": "stdout",
     "output_type": "stream",
     "text": [
      "Model: \"model\"\n",
      "__________________________________________________________________________________________________\n",
      " Layer (type)                Output Shape                 Param #   Connected to                  \n",
      "==================================================================================================\n",
      " text_input (InputLayer)     [(None, 4000)]               0         []                            \n",
      "                                                                                                  \n",
      " upper_ratio_input (InputLa  [(None, 1)]                  0         []                            \n",
      " yer)                                                                                             \n",
      "                                                                                                  \n",
      " blank_ratio_input (InputLa  [(None, 1)]                  0         []                            \n",
      " yer)                                                                                             \n",
      "                                                                                                  \n",
      " Noun_input (InputLayer)     [(None, 1)]                  0         []                            \n",
      "                                                                                                  \n",
      " Pronoun_input (InputLayer)  [(None, 1)]                  0         []                            \n",
      "                                                                                                  \n",
      " concatenate (Concatenate)   (None, 4004)                 0         ['text_input[0][0]',          \n",
      "                                                                     'upper_ratio_input[0][0]',   \n",
      "                                                                     'blank_ratio_input[0][0]',   \n",
      "                                                                     'Noun_input[0][0]',          \n",
      "                                                                     'Pronoun_input[0][0]']       \n",
      "                                                                                                  \n",
      " dense (Dense)               (None, 64)                   256320    ['concatenate[0][0]']         \n",
      "                                                                                                  \n",
      " output (Dense)              (None, 1)                    65        ['dense[0][0]']               \n",
      "                                                                                                  \n",
      "==================================================================================================\n",
      "Total params: 256385 (1001.50 KB)\n",
      "Trainable params: 256385 (1001.50 KB)\n",
      "Non-trainable params: 0 (0.00 Byte)\n",
      "__________________________________________________________________________________________________\n",
      "compile done\n",
      "Epoch 1/10\n",
      "71/77 [==========================>...] - ETA: 0s - loss: 0.2894 - accuracy: 0.8682\n",
      "Epoch 1: val_loss improved from inf to 0.18723, saving model to checkpoints\\spam_detector_enron_model6.h5\n",
      "77/77 [==============================] - 2s 11ms/step - loss: 0.2816 - accuracy: 0.8719 - val_loss: 0.1872 - val_accuracy: 0.9287\n",
      "Epoch 2/10\n",
      "21/77 [=======>......................] - ETA: 0s - loss: 0.0975 - accuracy: 0.9754"
     ]
    },
    {
     "name": "stderr",
     "output_type": "stream",
     "text": [
      "C:\\Users\\JAE\\anaconda3\\lib\\site-packages\\keras\\src\\engine\\training.py:3000: UserWarning: You are saving your model as an HDF5 file via `model.save()`. This file format is considered legacy. We recommend using instead the native Keras format, e.g. `model.save('my_model.keras')`.\n",
      "  saving_api.save_model(\n"
     ]
    },
    {
     "name": "stdout",
     "output_type": "stream",
     "text": [
      "74/77 [===========================>..] - ETA: 0s - loss: 0.0982 - accuracy: 0.9713\n",
      "Epoch 2: val_loss improved from 0.18723 to 0.17841, saving model to checkpoints\\spam_detector_enron_model6.h5\n",
      "77/77 [==============================] - 1s 7ms/step - loss: 0.0979 - accuracy: 0.9709 - val_loss: 0.1784 - val_accuracy: 0.9310\n",
      "Epoch 3/10\n",
      "69/77 [=========================>....] - ETA: 0s - loss: 0.0618 - accuracy: 0.9857\n",
      "Epoch 3: val_loss did not improve from 0.17841\n",
      "77/77 [==============================] - 1s 7ms/step - loss: 0.0627 - accuracy: 0.9854 - val_loss: 0.2134 - val_accuracy: 0.9425\n",
      "Epoch 4/10\n",
      "74/77 [===========================>..] - ETA: 0s - loss: 0.0499 - accuracy: 0.9909\n",
      "Epoch 4: val_loss did not improve from 0.17841\n",
      "77/77 [==============================] - 1s 7ms/step - loss: 0.0498 - accuracy: 0.9911 - val_loss: 0.1877 - val_accuracy: 0.9356\n",
      "Epoch 5/10\n",
      "71/77 [==========================>...] - ETA: 0s - loss: 0.0404 - accuracy: 0.9921\n",
      "Epoch 5: val_loss did not improve from 0.17841\n",
      "77/77 [==============================] - 1s 7ms/step - loss: 0.0392 - accuracy: 0.9925 - val_loss: 0.2186 - val_accuracy: 0.9413\n",
      "Epoch 6/10\n",
      "71/77 [==========================>...] - ETA: 0s - loss: 0.0317 - accuracy: 0.9954\n",
      "Epoch 6: val_loss did not improve from 0.17841\n",
      "77/77 [==============================] - 1s 7ms/step - loss: 0.0307 - accuracy: 0.9955 - val_loss: 0.2336 - val_accuracy: 0.9344\n",
      "Epoch 7/10\n",
      "73/77 [===========================>..] - ETA: 0s - loss: 0.0210 - accuracy: 0.9957\n",
      "Epoch 7: val_loss did not improve from 0.17841\n",
      "77/77 [==============================] - 1s 7ms/step - loss: 0.0208 - accuracy: 0.9957 - val_loss: 0.2197 - val_accuracy: 0.9402\n",
      "Epoch 8/10\n",
      "72/77 [===========================>..] - ETA: 0s - loss: 0.0146 - accuracy: 0.9965\n",
      "Epoch 8: val_loss did not improve from 0.17841\n",
      "77/77 [==============================] - 1s 7ms/step - loss: 0.0143 - accuracy: 0.9967 - val_loss: 0.2294 - val_accuracy: 0.9390\n",
      "Epoch 9/10\n",
      "71/77 [==========================>...] - ETA: 0s - loss: 0.0116 - accuracy: 0.9978\n",
      "Epoch 9: val_loss did not improve from 0.17841\n",
      "77/77 [==============================] - 1s 7ms/step - loss: 0.0122 - accuracy: 0.9976 - val_loss: 0.2345 - val_accuracy: 0.9356\n",
      "Epoch 10/10\n",
      "69/77 [=========================>....] - ETA: 0s - loss: 0.0093 - accuracy: 0.9984\n",
      "Epoch 10: val_loss did not improve from 0.17841\n",
      "77/77 [==============================] - 1s 7ms/step - loss: 0.0092 - accuracy: 0.9986 - val_loss: 0.2665 - val_accuracy: 0.9413\n"
     ]
    }
   ],
   "source": [
    "# get the compiled model\n",
    "model = get_simple_model()\n",
    "\n",
    "# load history\n",
    "# history=check_model(m,mat_texts,tags,epochs=10)\n",
    "history=check_model2(model,[text_train, upper_ratio_train, blank_ratio_train, Noun_train, Pronoun_train], tags_train, [text_val, upper_ratio_val, blank_ratio_val, Noun_val, Pronoun_val], tags_val, epochs=10)"
   ]
  },
  {
   "cell_type": "code",
   "execution_count": 24,
   "metadata": {},
   "outputs": [
    {
     "data": {
      "image/png": "[encoded data removed]",
      "text/plain": [
       "<Figure size 640x480 with 1 Axes>"
      ]
     },
     "metadata": {},
     "output_type": "display_data"
    }
   ],
   "source": [
    "plt.plot(history['loss'])\n",
    "plt.plot(history['val_loss'])\n",
    "plt.title('Email Spam Filter Model loss')\n",
    "plt.ylabel('loss')\n",
    "plt.xlabel('epoch')\n",
    "plt.legend(['train', 'test'], loc='upper right');"
   ]
  },
  {
   "cell_type": "markdown",
   "metadata": {},
   "source": [
    "# Evaluate Model Performance"
   ]
  },
  {
   "cell_type": "code",
   "execution_count": 25,
   "metadata": {},
   "outputs": [],
   "source": [
    "import sklearn\n",
    "from sklearn import metrics\n",
    "import joblib"
   ]
  },
  {
   "cell_type": "markdown",
   "metadata": {},
   "source": [
    "## Lets prepare test data "
   ]
  },
  {
   "cell_type": "code",
   "execution_count": 56,
   "metadata": {},
   "outputs": [],
   "source": [
    "test_df = pd.read_csv(\"최종데이터/image_test_16features.csv\")"
   ]
  },
  {
   "cell_type": "code",
   "execution_count": 57,
   "metadata": {},
   "outputs": [
    {
     "data": {
      "text/html": [
       "<div>\n",
       "<style scoped>\n",
       "    .dataframe tbody tr th:only-of-type {\n",
       "        vertical-align: middle;\n",
       "    }\n",
       "\n",
       "    .dataframe tbody tr th {\n",
       "        vertical-align: top;\n",
       "    }\n",
       "\n",
       "    .dataframe thead th {\n",
       "        text-align: right;\n",
       "    }\n",
       "</style>\n",
       "<table border=\"1\" class=\"dataframe\">\n",
       "  <thead>\n",
       "    <tr style=\"text-align: right;\">\n",
       "      <th></th>\n",
       "      <th>text</th>\n",
       "      <th>special_ratio</th>\n",
       "      <th>number_ratio</th>\n",
       "      <th>url_count</th>\n",
       "      <th>upper_ratio</th>\n",
       "      <th>blank_ratio</th>\n",
       "      <th>crlf_ratio</th>\n",
       "      <th>Noun</th>\n",
       "      <th>Pronoun</th>\n",
       "      <th>Verb</th>\n",
       "      <th>Adjective</th>\n",
       "      <th>Adverb</th>\n",
       "      <th>avg_word_sentences</th>\n",
       "      <th>avg_char_sentences</th>\n",
       "      <th>avg_word_paragraphs</th>\n",
       "      <th>avg_char_paragraphs</th>\n",
       "      <th>label</th>\n",
       "    </tr>\n",
       "  </thead>\n",
       "  <tbody>\n",
       "    <tr>\n",
       "      <th>0</th>\n",
       "      <td>\\nADS FOR MONSTERS\\nMADHOUSE SALUTES THE TRANS...</td>\n",
       "      <td>0.360624</td>\n",
       "      <td>0.000000</td>\n",
       "      <td>0</td>\n",
       "      <td>0.839181</td>\n",
       "      <td>0.770332</td>\n",
       "      <td>0.112719</td>\n",
       "      <td>0.727273</td>\n",
       "      <td>0.020202</td>\n",
       "      <td>0.040404</td>\n",
       "      <td>0.000000</td>\n",
       "      <td>0.010101</td>\n",
       "      <td>0.118940</td>\n",
       "      <td>0.123023</td>\n",
       "      <td>0.208877</td>\n",
       "      <td>0.202954</td>\n",
       "      <td>ham</td>\n",
       "    </tr>\n",
       "    <tr>\n",
       "      <th>1</th>\n",
       "      <td>\\nBest stock Pick for this Year.\\nGet ARSS Fir...</td>\n",
       "      <td>0.365934</td>\n",
       "      <td>0.081319</td>\n",
       "      <td>0</td>\n",
       "      <td>0.155449</td>\n",
       "      <td>0.965918</td>\n",
       "      <td>0.033690</td>\n",
       "      <td>0.343750</td>\n",
       "      <td>0.056250</td>\n",
       "      <td>0.125000</td>\n",
       "      <td>0.056250</td>\n",
       "      <td>0.037500</td>\n",
       "      <td>0.151835</td>\n",
       "      <td>0.136961</td>\n",
       "      <td>0.336815</td>\n",
       "      <td>0.282039</td>\n",
       "      <td>spam</td>\n",
       "    </tr>\n",
       "    <tr>\n",
       "      <th>2</th>\n",
       "      <td>\\n• Lowest Price Guarantee Fast Delivery\\nFor ...</td>\n",
       "      <td>0.452138</td>\n",
       "      <td>0.361711</td>\n",
       "      <td>3</td>\n",
       "      <td>0.102172</td>\n",
       "      <td>0.686488</td>\n",
       "      <td>0.268455</td>\n",
       "      <td>0.447917</td>\n",
       "      <td>0.020833</td>\n",
       "      <td>0.125000</td>\n",
       "      <td>0.010417</td>\n",
       "      <td>0.052083</td>\n",
       "      <td>0.859729</td>\n",
       "      <td>0.908068</td>\n",
       "      <td>0.214099</td>\n",
       "      <td>0.191520</td>\n",
       "      <td>spam</td>\n",
       "    </tr>\n",
       "    <tr>\n",
       "      <th>3</th>\n",
       "      <td>\\nLOUIS VUITTON\\nPARIS\\nmade in France</td>\n",
       "      <td>0.000000</td>\n",
       "      <td>0.000000</td>\n",
       "      <td>0</td>\n",
       "      <td>0.600000</td>\n",
       "      <td>0.498126</td>\n",
       "      <td>0.480349</td>\n",
       "      <td>0.666667</td>\n",
       "      <td>0.000000</td>\n",
       "      <td>0.166667</td>\n",
       "      <td>0.000000</td>\n",
       "      <td>0.000000</td>\n",
       "      <td>0.045249</td>\n",
       "      <td>0.052533</td>\n",
       "      <td>0.013055</td>\n",
       "      <td>0.010958</td>\n",
       "      <td>ham</td>\n",
       "    </tr>\n",
       "    <tr>\n",
       "      <th>4</th>\n",
       "      <td>\\n• Lowest Price Guarantee Fast Delivery\\nFor ...</td>\n",
       "      <td>0.544482</td>\n",
       "      <td>0.445485</td>\n",
       "      <td>2</td>\n",
       "      <td>0.113155</td>\n",
       "      <td>0.777455</td>\n",
       "      <td>0.182431</td>\n",
       "      <td>0.389831</td>\n",
       "      <td>0.033898</td>\n",
       "      <td>0.084746</td>\n",
       "      <td>0.033898</td>\n",
       "      <td>0.050847</td>\n",
       "      <td>0.524887</td>\n",
       "      <td>0.547842</td>\n",
       "      <td>0.130548</td>\n",
       "      <td>0.115293</td>\n",
       "      <td>spam</td>\n",
       "    </tr>\n",
       "    <tr>\n",
       "      <th>...</th>\n",
       "      <td>...</td>\n",
       "      <td>...</td>\n",
       "      <td>...</td>\n",
       "      <td>...</td>\n",
       "      <td>...</td>\n",
       "      <td>...</td>\n",
       "      <td>...</td>\n",
       "      <td>...</td>\n",
       "      <td>...</td>\n",
       "      <td>...</td>\n",
       "      <td>...</td>\n",
       "      <td>...</td>\n",
       "      <td>...</td>\n",
       "      <td>...</td>\n",
       "      <td>...</td>\n",
       "      <td>...</td>\n",
       "      <td>...</td>\n",
       "    </tr>\n",
       "    <tr>\n",
       "      <th>57</th>\n",
       "      <td>\\nNERDS ANONYMOUS\\nCreated by Jared Bonner and...</td>\n",
       "      <td>0.397472</td>\n",
       "      <td>0.093523</td>\n",
       "      <td>2</td>\n",
       "      <td>0.088468</td>\n",
       "      <td>0.734468</td>\n",
       "      <td>0.025748</td>\n",
       "      <td>0.448598</td>\n",
       "      <td>0.018692</td>\n",
       "      <td>0.112150</td>\n",
       "      <td>0.046729</td>\n",
       "      <td>0.018692</td>\n",
       "      <td>0.233032</td>\n",
       "      <td>0.282364</td>\n",
       "      <td>0.224543</td>\n",
       "      <td>0.257265</td>\n",
       "      <td>ham</td>\n",
       "    </tr>\n",
       "    <tr>\n",
       "      <th>58</th>\n",
       "      <td>\\nCANAL DE PANAMA\\nABIER\\nMIRAFLORES LOCKS PAN...</td>\n",
       "      <td>0.000000</td>\n",
       "      <td>0.129825</td>\n",
       "      <td>0</td>\n",
       "      <td>0.900585</td>\n",
       "      <td>0.509779</td>\n",
       "      <td>0.385729</td>\n",
       "      <td>0.888889</td>\n",
       "      <td>0.000000</td>\n",
       "      <td>0.000000</td>\n",
       "      <td>0.000000</td>\n",
       "      <td>0.000000</td>\n",
       "      <td>0.072398</td>\n",
       "      <td>0.093809</td>\n",
       "      <td>0.020888</td>\n",
       "      <td>0.020010</td>\n",
       "      <td>ham</td>\n",
       "    </tr>\n",
       "    <tr>\n",
       "      <th>59</th>\n",
       "      <td>\\nLowest Price Guarantee &amp; Fast Delivery\\n100%...</td>\n",
       "      <td>0.502642</td>\n",
       "      <td>0.432830</td>\n",
       "      <td>3</td>\n",
       "      <td>0.107862</td>\n",
       "      <td>0.800448</td>\n",
       "      <td>0.165216</td>\n",
       "      <td>0.425926</td>\n",
       "      <td>0.018519</td>\n",
       "      <td>0.111111</td>\n",
       "      <td>0.018519</td>\n",
       "      <td>0.037037</td>\n",
       "      <td>0.479638</td>\n",
       "      <td>0.483114</td>\n",
       "      <td>0.234987</td>\n",
       "      <td>0.206289</td>\n",
       "      <td>spam</td>\n",
       "    </tr>\n",
       "    <tr>\n",
       "      <th>60</th>\n",
       "      <td>\\nWATCH OUT!\\nSBNS MAKES A MOVE!\\nWATCH SBNS T...</td>\n",
       "      <td>0.314678</td>\n",
       "      <td>0.071056</td>\n",
       "      <td>0</td>\n",
       "      <td>0.387289</td>\n",
       "      <td>0.829072</td>\n",
       "      <td>0.075351</td>\n",
       "      <td>0.592857</td>\n",
       "      <td>0.000000</td>\n",
       "      <td>0.028571</td>\n",
       "      <td>0.021429</td>\n",
       "      <td>0.014286</td>\n",
       "      <td>0.106129</td>\n",
       "      <td>0.109500</td>\n",
       "      <td>0.305483</td>\n",
       "      <td>0.288232</td>\n",
       "      <td>spam</td>\n",
       "    </tr>\n",
       "    <tr>\n",
       "      <th>61</th>\n",
       "      <td>\\nGet QEGY First Thing On Monday Oct 23, This ...</td>\n",
       "      <td>0.333521</td>\n",
       "      <td>0.156338</td>\n",
       "      <td>0</td>\n",
       "      <td>0.170892</td>\n",
       "      <td>0.998592</td>\n",
       "      <td>0.044175</td>\n",
       "      <td>0.379747</td>\n",
       "      <td>0.012658</td>\n",
       "      <td>0.094937</td>\n",
       "      <td>0.025316</td>\n",
       "      <td>0.012658</td>\n",
       "      <td>0.149824</td>\n",
       "      <td>0.133417</td>\n",
       "      <td>0.342037</td>\n",
       "      <td>0.272511</td>\n",
       "      <td>spam</td>\n",
       "    </tr>\n",
       "  </tbody>\n",
       "</table>\n",
       "<p>62 rows × 17 columns</p>\n",
       "</div>"
      ],
      "text/plain": [
       "                                                 text  special_ratio  \\\n",
       "0   \\nADS FOR MONSTERS\\nMADHOUSE SALUTES THE TRANS...       0.360624   \n",
       "1   \\nBest stock Pick for this Year.\\nGet ARSS Fir...       0.365934   \n",
       "2   \\n• Lowest Price Guarantee Fast Delivery\\nFor ...       0.452138   \n",
       "3              \\nLOUIS VUITTON\\nPARIS\\nmade in France       0.000000   \n",
       "4   \\n• Lowest Price Guarantee Fast Delivery\\nFor ...       0.544482   \n",
       "..                                                ...            ...   \n",
       "57  \\nNERDS ANONYMOUS\\nCreated by Jared Bonner and...       0.397472   \n",
       "58  \\nCANAL DE PANAMA\\nABIER\\nMIRAFLORES LOCKS PAN...       0.000000   \n",
       "59  \\nLowest Price Guarantee & Fast Delivery\\n100%...       0.502642   \n",
       "60  \\nWATCH OUT!\\nSBNS MAKES A MOVE!\\nWATCH SBNS T...       0.314678   \n",
       "61  \\nGet QEGY First Thing On Monday Oct 23, This ...       0.333521   \n",
       "\n",
       "    number_ratio  url_count  upper_ratio  blank_ratio  crlf_ratio      Noun  \\\n",
       "0       0.000000          0     0.839181     0.770332    0.112719  0.727273   \n",
       "1       0.081319          0     0.155449     0.965918    0.033690  0.343750   \n",
       "2       0.361711          3     0.102172     0.686488    0.268455  0.447917   \n",
       "3       0.000000          0     0.600000     0.498126    0.480349  0.666667   \n",
       "4       0.445485          2     0.113155     0.777455    0.182431  0.389831   \n",
       "..           ...        ...          ...          ...         ...       ...   \n",
       "57      0.093523          2     0.088468     0.734468    0.025748  0.448598   \n",
       "58      0.129825          0     0.900585     0.509779    0.385729  0.888889   \n",
       "59      0.432830          3     0.107862     0.800448    0.165216  0.425926   \n",
       "60      0.071056          0     0.387289     0.829072    0.075351  0.592857   \n",
       "61      0.156338          0     0.170892     0.998592    0.044175  0.379747   \n",
       "\n",
       "     Pronoun      Verb  Adjective    Adverb  avg_word_sentences  \\\n",
       "0   0.020202  0.040404   0.000000  0.010101            0.118940   \n",
       "1   0.056250  0.125000   0.056250  0.037500            0.151835   \n",
       "2   0.020833  0.125000   0.010417  0.052083            0.859729   \n",
       "3   0.000000  0.166667   0.000000  0.000000            0.045249   \n",
       "4   0.033898  0.084746   0.033898  0.050847            0.524887   \n",
       "..       ...       ...        ...       ...                 ...   \n",
       "57  0.018692  0.112150   0.046729  0.018692            0.233032   \n",
       "58  0.000000  0.000000   0.000000  0.000000            0.072398   \n",
       "59  0.018519  0.111111   0.018519  0.037037            0.479638   \n",
       "60  0.000000  0.028571   0.021429  0.014286            0.106129   \n",
       "61  0.012658  0.094937   0.025316  0.012658            0.149824   \n",
       "\n",
       "    avg_char_sentences  avg_word_paragraphs  avg_char_paragraphs label  \n",
       "0             0.123023             0.208877             0.202954   ham  \n",
       "1             0.136961             0.336815             0.282039  spam  \n",
       "2             0.908068             0.214099             0.191520  spam  \n",
       "3             0.052533             0.013055             0.010958   ham  \n",
       "4             0.547842             0.130548             0.115293  spam  \n",
       "..                 ...                  ...                  ...   ...  \n",
       "57            0.282364             0.224543             0.257265   ham  \n",
       "58            0.093809             0.020888             0.020010   ham  \n",
       "59            0.483114             0.234987             0.206289  spam  \n",
       "60            0.109500             0.305483             0.288232  spam  \n",
       "61            0.133417             0.342037             0.272511  spam  \n",
       "\n",
       "[62 rows x 17 columns]"
      ]
     },
     "execution_count": 57,
     "metadata": {},
     "output_type": "execute_result"
    }
   ],
   "source": [
    "test_df"
   ]
  },
  {
   "cell_type": "code",
   "execution_count": 58,
   "metadata": {},
   "outputs": [],
   "source": [
    "test_df['tokenized_text']=test_df.apply(tokenize, axis=1)\n",
    "test_df['token_count']=test_df.apply(token_count, axis=1)\n",
    "test_df['lang']='en'"
   ]
  },
  {
   "cell_type": "code",
   "execution_count": 59,
   "metadata": {},
   "outputs": [
    {
     "name": "stdout",
     "output_type": "stream",
     "text": [
      "shape of labels:  (62,)\n",
      "shape of data:  (62, 4000)\n",
      " -----total Computation time for preparing model data = 0.03125 seconds\n"
     ]
    }
   ],
   "source": [
    "# prepare model input data\n",
    "sample_texts,sample_target = prepare_model_input(tfidf_model,test_df,mode='tfidf')"
   ]
  },
  {
   "cell_type": "code",
   "execution_count": 60,
   "metadata": {},
   "outputs": [],
   "source": [
    "special_ratio_test = np.array(test_df['special_ratio'])\n",
    "number_ratio_test = np.array(test_df['number_ratio'])\n",
    "url_count_test = np.array(test_df['url_count'])\n",
    "upper_ratio_test = np.array(test_df['upper_ratio'])\n",
    "blank_ratio_test = np.array(test_df['blank_ratio'])\n",
    "crlf_ratio_test = np.array(test_df['crlf_ratio'])\n",
    "Noun_test = np.array(test_df['Noun'])\n",
    "Pronoun_test = np.array(test_df['Pronoun'])\n",
    "Verb_test = np.array(test_df['Verb'])\n",
    "Adjective_test = np.array(test_df['Adjective'])\n",
    "Adverb_test = np.array(test_df['Adverb'])\n",
    "avg_word_sentences_test = np.array(test_df['avg_word_sentences'])\n",
    "avg_char_sentences_test = np.array(test_df['avg_char_sentences'])\n",
    "avg_word_paragraphs_test = np.array(test_df['avg_word_paragraphs'])\n",
    "avg_char_paragraphs_test = np.array(test_df['avg_char_paragraphs'])"
   ]
  },
  {
   "cell_type": "code",
   "execution_count": 61,
   "metadata": {},
   "outputs": [],
   "source": [
    "# lets write a function to create the dataframe of the results from all the models\n",
    "\n",
    "model_dict={}\n",
    "model_dict['deep_learning']=model\n",
    "\n",
    "\n",
    "def getResults(model_dict, sample_texts, upper_ratio, blank_ratio, Noun, Pronoun, sample_target):\n",
    "    '''\n",
    "    Get results from different models\n",
    "    '''\n",
    "    results=[]\n",
    "    \n",
    "    results_cm={}\n",
    "    \n",
    "    for name,model in model_dict.items():\n",
    "#         print(name)\n",
    "        tic1 = time.process_time()\n",
    "        if name in 'deep_learning':\n",
    "            predicted_sample = predict(sample_texts, upper_ratio, blank_ratio, Noun, Pronoun)\n",
    "        else:    \n",
    "            predicted_sample = model.predict(sample_texts, upper_ratio, blank_ratio, Noun, Pronoun)\n",
    "        toc1 = time.process_time()\n",
    "#         print(predicted_sample)\n",
    "\n",
    "        cm=sklearn.metrics.confusion_matrix(sample_target, predicted_sample)\n",
    "        results_cm[name]=cm\n",
    "        \n",
    "        total=len(predicted_sample)\n",
    "        TP = cm[0][0]\n",
    "        FP = cm[0][1]\n",
    "        FN = cm[1][0]\n",
    "        TN = cm[1][1]\n",
    "        \n",
    "        time_taken=round(toc1 - tic1,4)\n",
    "        res=sklearn.metrics.precision_recall_fscore_support(sample_target, predicted_sample)\n",
    "        results.append([name,np.mean(res[0]),np.mean(res[1]),np.mean(res[2]),total,TP,FP,FN,TN,str(time_taken)] )     \n",
    "        \n",
    "    \n",
    "    df_cols=['model','precision','recall','f1_score','Total_samples','TP','FP','FN','TN','execution_time']\n",
    "    result_df=pd.DataFrame(results,columns=df_cols)\n",
    "    \n",
    "    return result_df,results_cm"
   ]
  },
  {
   "cell_type": "markdown",
   "metadata": {},
   "source": [
    "## Results"
   ]
  },
  {
   "cell_type": "code",
   "execution_count": 62,
   "metadata": {},
   "outputs": [
    {
     "name": "stdout",
     "output_type": "stream",
     "text": [
      "2/2 [==============================] - 0s 14ms/step\n"
     ]
    },
    {
     "data": {
      "text/html": [
       "<div>\n",
       "<style scoped>\n",
       "    .dataframe tbody tr th:only-of-type {\n",
       "        vertical-align: middle;\n",
       "    }\n",
       "\n",
       "    .dataframe tbody tr th {\n",
       "        vertical-align: top;\n",
       "    }\n",
       "\n",
       "    .dataframe thead th {\n",
       "        text-align: right;\n",
       "    }\n",
       "</style>\n",
       "<table border=\"1\" class=\"dataframe\">\n",
       "  <thead>\n",
       "    <tr style=\"text-align: right;\">\n",
       "      <th></th>\n",
       "      <th>model</th>\n",
       "      <th>precision</th>\n",
       "      <th>recall</th>\n",
       "      <th>f1_score</th>\n",
       "      <th>Total_samples</th>\n",
       "      <th>TP</th>\n",
       "      <th>FP</th>\n",
       "      <th>FN</th>\n",
       "      <th>TN</th>\n",
       "      <th>execution_time</th>\n",
       "    </tr>\n",
       "  </thead>\n",
       "  <tbody>\n",
       "    <tr>\n",
       "      <th>0</th>\n",
       "      <td>deep_learning</td>\n",
       "      <td>0.926471</td>\n",
       "      <td>0.924242</td>\n",
       "      <td>0.919334</td>\n",
       "      <td>62</td>\n",
       "      <td>28</td>\n",
       "      <td>5</td>\n",
       "      <td>0</td>\n",
       "      <td>29</td>\n",
       "      <td>0.1406</td>\n",
       "    </tr>\n",
       "  </tbody>\n",
       "</table>\n",
       "</div>"
      ],
      "text/plain": [
       "           model  precision    recall  f1_score  Total_samples  TP  FP  FN  \\\n",
       "0  deep_learning   0.926471  0.924242  0.919334             62  28   5   0   \n",
       "\n",
       "   TN execution_time  \n",
       "0  29         0.1406  "
      ]
     },
     "execution_count": 62,
     "metadata": {},
     "output_type": "execute_result"
    }
   ],
   "source": [
    "result_df,results_cm= getResults(model_dict, sample_texts, upper_ratio_test , blank_ratio_test , Noun_test, Pronoun_test, sample_target)\n",
    "result_df"
   ]
  },
  {
   "cell_type": "markdown",
   "metadata": {},
   "source": [
    "As we see, deep learning model does very well on the test data. The results from other models are close. I have tried this approach over multiple language emails and deep learning model is very consistent with the performance. XGboost also does very well. Please note that i have not optimized random forest and SVM much beyond the defaults. So they may have better performance with tuning. \n"
   ]
  },
  {
   "cell_type": "markdown",
   "metadata": {},
   "source": [
    "### Plot confusion Matrix for all the models"
   ]
  },
  {
   "cell_type": "code",
   "execution_count": 33,
   "metadata": {},
   "outputs": [],
   "source": [
    "def plot_heatmap(cm,title):\n",
    "    df_cm2 = pd.DataFrame(cm, index = ['normal', 'spam'])\n",
    "    df_cm2.columns=['normal','spam']\n",
    "\n",
    "    ax = plt.axes()\n",
    "    sns.heatmap(df_cm2, annot=True, fmt=\"d\", linewidths=.5,ax=ax)\n",
    "    ax.set_title(title)\n",
    "    plt.show()\n",
    "    return"
   ]
  },
  {
   "cell_type": "markdown",
   "metadata": {},
   "source": [
    "### CM for Deep Learning Model"
   ]
  },
  {
   "cell_type": "code",
   "execution_count": 34,
   "metadata": {},
   "outputs": [
    {
     "data": {
      "image/png": "[encoded data removed]",
      "text/plain": [
       "<Figure size 640x480 with 2 Axes>"
      ]
     },
     "metadata": {},
     "output_type": "display_data"
    }
   ],
   "source": [
    "plot_heatmap(results_cm['deep_learning'],'Deep Learning')"
   ]
  },
  {
   "cell_type": "markdown",
   "metadata": {},
   "source": [
    "# 다른 테스트 셋"
   ]
  },
  {
   "cell_type": "code",
   "execution_count": null,
   "metadata": {},
   "outputs": [],
   "source": []
  },
  {
   "cell_type": "code",
   "execution_count": null,
   "metadata": {},
   "outputs": [],
   "source": []
  },
  {
   "cell_type": "code",
   "execution_count": null,
   "metadata": {},
   "outputs": [],
   "source": []
  }
 ],
 "metadata": {
  "kernelspec": {
   "display_name": "Python 3 (ipykernel)",
   "language": "python",
   "name": "python3"
  },
  "language_info": {
   "codemirror_mode": {
    "name": "ipython",
    "version": 3
   },
   "file_extension": ".py",
   "mimetype": "text/x-python",
   "name": "python",
   "nbconvert_exporter": "python",
   "pygments_lexer": "ipython3",
   "version": "3.9.13"
  }
 },
 "nbformat": 4,
 "nbformat_minor": 4
}
